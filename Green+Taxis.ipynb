{
 "cells": [
  {
   "cell_type": "markdown",
   "metadata": {},
   "source": [
    "Deepika Mulchandani  \n",
    "\n",
    "deepikak@vt.edu  \n",
    "\n",
    "+1(540)4497621"
   ]
  },
  {
   "cell_type": "markdown",
   "metadata": {},
   "source": [
    "## GREEN TAXIS"
   ]
  },
  {
   "cell_type": "code",
   "execution_count": 2,
   "metadata": {
    "collapsed": true
   },
   "outputs": [],
   "source": [
    "import pandas as pd\n",
    "import numpy as np\n",
    "import math\n",
    "from math import sin,cos,atan2,sqrt,ceil,log"
   ]
  },
  {
   "cell_type": "markdown",
   "metadata": {},
   "source": [
    "##### Question 1  \n",
    "\n",
    "·         Programmatically download and load into your favorite analytical tool the trip data for September 2015.\n",
    "\n",
    "·         Report how many rows and columns of data you have loaded."
   ]
  },
  {
   "cell_type": "code",
   "execution_count": 3,
   "metadata": {},
   "outputs": [
    {
     "data": {
      "text/html": [
       "<div>\n",
       "<style>\n",
       "    .dataframe thead tr:only-child th {\n",
       "        text-align: right;\n",
       "    }\n",
       "\n",
       "    .dataframe thead th {\n",
       "        text-align: left;\n",
       "    }\n",
       "\n",
       "    .dataframe tbody tr th {\n",
       "        vertical-align: top;\n",
       "    }\n",
       "</style>\n",
       "<table border=\"1\" class=\"dataframe\">\n",
       "  <thead>\n",
       "    <tr style=\"text-align: right;\">\n",
       "      <th></th>\n",
       "      <th>VendorID</th>\n",
       "      <th>lpep_pickup_datetime</th>\n",
       "      <th>Lpep_dropoff_datetime</th>\n",
       "      <th>Store_and_fwd_flag</th>\n",
       "      <th>RateCodeID</th>\n",
       "      <th>Pickup_longitude</th>\n",
       "      <th>Pickup_latitude</th>\n",
       "      <th>Dropoff_longitude</th>\n",
       "      <th>Dropoff_latitude</th>\n",
       "      <th>Passenger_count</th>\n",
       "      <th>...</th>\n",
       "      <th>Fare_amount</th>\n",
       "      <th>Extra</th>\n",
       "      <th>MTA_tax</th>\n",
       "      <th>Tip_amount</th>\n",
       "      <th>Tolls_amount</th>\n",
       "      <th>Ehail_fee</th>\n",
       "      <th>improvement_surcharge</th>\n",
       "      <th>Total_amount</th>\n",
       "      <th>Payment_type</th>\n",
       "      <th>Trip_type</th>\n",
       "    </tr>\n",
       "  </thead>\n",
       "  <tbody>\n",
       "    <tr>\n",
       "      <th>0</th>\n",
       "      <td>2</td>\n",
       "      <td>2015-09-01 00:02:34</td>\n",
       "      <td>2015-09-01 00:02:38</td>\n",
       "      <td>N</td>\n",
       "      <td>5</td>\n",
       "      <td>-73.979485</td>\n",
       "      <td>40.684956</td>\n",
       "      <td>-73.979431</td>\n",
       "      <td>40.685020</td>\n",
       "      <td>1</td>\n",
       "      <td>...</td>\n",
       "      <td>7.8</td>\n",
       "      <td>0.0</td>\n",
       "      <td>0.0</td>\n",
       "      <td>1.95</td>\n",
       "      <td>0.0</td>\n",
       "      <td>NaN</td>\n",
       "      <td>0.0</td>\n",
       "      <td>9.75</td>\n",
       "      <td>1</td>\n",
       "      <td>2.0</td>\n",
       "    </tr>\n",
       "    <tr>\n",
       "      <th>1</th>\n",
       "      <td>2</td>\n",
       "      <td>2015-09-01 00:04:20</td>\n",
       "      <td>2015-09-01 00:04:24</td>\n",
       "      <td>N</td>\n",
       "      <td>5</td>\n",
       "      <td>-74.010796</td>\n",
       "      <td>40.912216</td>\n",
       "      <td>-74.010780</td>\n",
       "      <td>40.912212</td>\n",
       "      <td>1</td>\n",
       "      <td>...</td>\n",
       "      <td>45.0</td>\n",
       "      <td>0.0</td>\n",
       "      <td>0.0</td>\n",
       "      <td>0.00</td>\n",
       "      <td>0.0</td>\n",
       "      <td>NaN</td>\n",
       "      <td>0.0</td>\n",
       "      <td>45.00</td>\n",
       "      <td>1</td>\n",
       "      <td>2.0</td>\n",
       "    </tr>\n",
       "    <tr>\n",
       "      <th>2</th>\n",
       "      <td>2</td>\n",
       "      <td>2015-09-01 00:01:50</td>\n",
       "      <td>2015-09-01 00:04:24</td>\n",
       "      <td>N</td>\n",
       "      <td>1</td>\n",
       "      <td>-73.921410</td>\n",
       "      <td>40.766708</td>\n",
       "      <td>-73.914413</td>\n",
       "      <td>40.764687</td>\n",
       "      <td>1</td>\n",
       "      <td>...</td>\n",
       "      <td>4.0</td>\n",
       "      <td>0.5</td>\n",
       "      <td>0.5</td>\n",
       "      <td>0.50</td>\n",
       "      <td>0.0</td>\n",
       "      <td>NaN</td>\n",
       "      <td>0.3</td>\n",
       "      <td>5.80</td>\n",
       "      <td>1</td>\n",
       "      <td>1.0</td>\n",
       "    </tr>\n",
       "    <tr>\n",
       "      <th>3</th>\n",
       "      <td>2</td>\n",
       "      <td>2015-09-01 00:02:36</td>\n",
       "      <td>2015-09-01 00:06:42</td>\n",
       "      <td>N</td>\n",
       "      <td>1</td>\n",
       "      <td>-73.921387</td>\n",
       "      <td>40.766678</td>\n",
       "      <td>-73.931427</td>\n",
       "      <td>40.771584</td>\n",
       "      <td>1</td>\n",
       "      <td>...</td>\n",
       "      <td>5.0</td>\n",
       "      <td>0.5</td>\n",
       "      <td>0.5</td>\n",
       "      <td>0.00</td>\n",
       "      <td>0.0</td>\n",
       "      <td>NaN</td>\n",
       "      <td>0.3</td>\n",
       "      <td>6.30</td>\n",
       "      <td>2</td>\n",
       "      <td>1.0</td>\n",
       "    </tr>\n",
       "    <tr>\n",
       "      <th>4</th>\n",
       "      <td>2</td>\n",
       "      <td>2015-09-01 00:00:14</td>\n",
       "      <td>2015-09-01 00:04:20</td>\n",
       "      <td>N</td>\n",
       "      <td>1</td>\n",
       "      <td>-73.955482</td>\n",
       "      <td>40.714046</td>\n",
       "      <td>-73.944412</td>\n",
       "      <td>40.714729</td>\n",
       "      <td>1</td>\n",
       "      <td>...</td>\n",
       "      <td>5.0</td>\n",
       "      <td>0.5</td>\n",
       "      <td>0.5</td>\n",
       "      <td>0.00</td>\n",
       "      <td>0.0</td>\n",
       "      <td>NaN</td>\n",
       "      <td>0.3</td>\n",
       "      <td>6.30</td>\n",
       "      <td>2</td>\n",
       "      <td>1.0</td>\n",
       "    </tr>\n",
       "  </tbody>\n",
       "</table>\n",
       "<p>5 rows × 21 columns</p>\n",
       "</div>"
      ],
      "text/plain": [
       "   VendorID lpep_pickup_datetime Lpep_dropoff_datetime Store_and_fwd_flag  \\\n",
       "0         2  2015-09-01 00:02:34   2015-09-01 00:02:38                  N   \n",
       "1         2  2015-09-01 00:04:20   2015-09-01 00:04:24                  N   \n",
       "2         2  2015-09-01 00:01:50   2015-09-01 00:04:24                  N   \n",
       "3         2  2015-09-01 00:02:36   2015-09-01 00:06:42                  N   \n",
       "4         2  2015-09-01 00:00:14   2015-09-01 00:04:20                  N   \n",
       "\n",
       "   RateCodeID  Pickup_longitude  Pickup_latitude  Dropoff_longitude  \\\n",
       "0           5        -73.979485        40.684956         -73.979431   \n",
       "1           5        -74.010796        40.912216         -74.010780   \n",
       "2           1        -73.921410        40.766708         -73.914413   \n",
       "3           1        -73.921387        40.766678         -73.931427   \n",
       "4           1        -73.955482        40.714046         -73.944412   \n",
       "\n",
       "   Dropoff_latitude  Passenger_count     ...      Fare_amount  Extra  MTA_tax  \\\n",
       "0         40.685020                1     ...              7.8    0.0      0.0   \n",
       "1         40.912212                1     ...             45.0    0.0      0.0   \n",
       "2         40.764687                1     ...              4.0    0.5      0.5   \n",
       "3         40.771584                1     ...              5.0    0.5      0.5   \n",
       "4         40.714729                1     ...              5.0    0.5      0.5   \n",
       "\n",
       "   Tip_amount  Tolls_amount  Ehail_fee  improvement_surcharge  Total_amount  \\\n",
       "0        1.95           0.0        NaN                    0.0          9.75   \n",
       "1        0.00           0.0        NaN                    0.0         45.00   \n",
       "2        0.50           0.0        NaN                    0.3          5.80   \n",
       "3        0.00           0.0        NaN                    0.3          6.30   \n",
       "4        0.00           0.0        NaN                    0.3          6.30   \n",
       "\n",
       "   Payment_type  Trip_type   \n",
       "0             1         2.0  \n",
       "1             1         2.0  \n",
       "2             1         1.0  \n",
       "3             2         1.0  \n",
       "4             2         1.0  \n",
       "\n",
       "[5 rows x 21 columns]"
      ]
     },
     "execution_count": 3,
     "metadata": {},
     "output_type": "execute_result"
    }
   ],
   "source": [
    "green=pd.read_csv(\"/Users/deepikamulchandani/Downloads/green_tripdata_2015-09.csv\") #Loading the data into a pandas dataframe\n",
    "green.head()    # Displaying some of the data to understand the structure, nature and features in the data"
   ]
  },
  {
   "cell_type": "code",
   "execution_count": 4,
   "metadata": {},
   "outputs": [
    {
     "name": "stdout",
     "output_type": "stream",
     "text": [
      "Number of rows in Green Taxis trip data is :  1494926\n",
      "Number of columns in Green Taxis trip data is :  21\n"
     ]
    }
   ],
   "source": [
    "rows=green.shape[0]\n",
    "columns=green.shape[1]\n",
    "print \"Number of rows in Green Taxis trip data is : \",rows\n",
    "print \"Number of columns in Green Taxis trip data is : \",columns"
   ]
  },
  {
   "cell_type": "markdown",
   "metadata": {},
   "source": [
    "##### Question 2  \n",
    "\n",
    "·         Plot a histogram of the number of the trip distance (\"Trip Distance\").\n",
    "\n",
    "·         Report any structure you find and any hypotheses you have about that structure."
   ]
  },
  {
   "cell_type": "markdown",
   "metadata": {},
   "source": [
    "For creating histogram, I have calculated the number of bins using the Square Root method. The number of bins in this case is simply the square root of the number of observations. "
   ]
  },
  {
   "cell_type": "code",
   "execution_count": 5,
   "metadata": {},
   "outputs": [
    {
     "name": "stdout",
     "output_type": "stream",
     "text": [
      "Number of bins is: 1223\n"
     ]
    },
    {
     "data": {
      "image/png": "[encoded data removed]",
      "text/plain": [
       "<matplotlib.figure.Figure at 0x109aac510>"
      ]
     },
     "metadata": {},
     "output_type": "display_data"
    }
   ],
   "source": [
    "import matplotlib.pyplot as plt\n",
    "no_of_bins= math.ceil(sqrt(green.shape[0])) #Calculating number of bins\n",
    "no_of_bins=int(no_of_bins)\n",
    "print \"Number of bins is:\" ,no_of_bins\n",
    "green['Trip_distance'].hist(bins=no_of_bins) #Histogram for number of Trip distance\n",
    "plt.title(\"Histogram\")\n",
    "plt.xlabel(\"Trip Distance\")\n",
    "plt.ylabel(\"Frequency\")\n",
    "plt.xlim([0,20])\n",
    "plt.show()"
   ]
  },
  {
   "cell_type": "markdown",
   "metadata": {},
   "source": [
    "As we can see in the histogram above, as the trip distance increases, the frequency or the number of rides decreases. For the trip distances somewhere between 0.5 to 2.0, the number of rides are as high as 250000. Rides having trip distance as large as 20 are minimal. It can be assumed that most green taxis take short rides most of the times. "
   ]
  },
  {
   "cell_type": "markdown",
   "metadata": {},
   "source": [
    "##### Question 3  \n",
    "\n",
    "        Report mean and median trip distance grouped by hour of day.\n",
    "\n",
    "        We'd like to get a rough sense of identifying trips that originate or terminate at one of the NYC area airports. Can you provide a count of how many transactions fit this criteria, the average fair, and any other interesting characteristics of these trips."
   ]
  },
  {
   "cell_type": "code",
   "execution_count": 6,
   "metadata": {
    "collapsed": true
   },
   "outputs": [],
   "source": [
    "green[\"lpep_pickup_datetime\"] = pd.to_datetime(green[\"lpep_pickup_datetime\"]) #Converting series to datetime index to access hours using dt.hour\n",
    "Mean=green.groupby(green['lpep_pickup_datetime'].dt.hour)['Trip_distance'].mean()\n",
    "Median=green.groupby(green['lpep_pickup_datetime'].dt.hour)['Trip_distance'].median()"
   ]
  },
  {
   "cell_type": "code",
   "execution_count": 7,
   "metadata": {},
   "outputs": [
    {
     "name": "stdout",
     "output_type": "stream",
     "text": [
      "Mean of the trip distance grouped by hour of day is :\n",
      "lpep_pickup_datetime\n",
      "0     3.115276\n",
      "1     3.017347\n",
      "2     3.046176\n",
      "3     3.212945\n",
      "4     3.526555\n",
      "5     4.133474\n",
      "6     4.055149\n",
      "7     3.284394\n",
      "8     3.048450\n",
      "9     2.999105\n",
      "10    2.944482\n",
      "11    2.912015\n",
      "12    2.903065\n",
      "13    2.878294\n",
      "14    2.864304\n",
      "15    2.857040\n",
      "16    2.779852\n",
      "17    2.679114\n",
      "18    2.653222\n",
      "19    2.715597\n",
      "20    2.777052\n",
      "21    2.999189\n",
      "22    3.185394\n",
      "23    3.191538\n",
      "Name: Trip_distance, dtype: float64\n",
      "Median of the trip distance grouped by hour of day is :\n",
      "lpep_pickup_datetime\n",
      "0     2.20\n",
      "1     2.12\n",
      "2     2.14\n",
      "3     2.20\n",
      "4     2.36\n",
      "5     2.90\n",
      "6     2.84\n",
      "7     2.17\n",
      "8     1.98\n",
      "9     1.96\n",
      "10    1.92\n",
      "11    1.88\n",
      "12    1.89\n",
      "13    1.84\n",
      "14    1.83\n",
      "15    1.81\n",
      "16    1.80\n",
      "17    1.78\n",
      "18    1.80\n",
      "19    1.85\n",
      "20    1.90\n",
      "21    2.03\n",
      "22    2.20\n",
      "23    2.22\n",
      "Name: Trip_distance, dtype: float64\n"
     ]
    }
   ],
   "source": [
    "print \"Mean of the trip distance grouped by hour of day is :\"\n",
    "print Mean\n",
    "print \"Median of the trip distance grouped by hour of day is :\"\n",
    "print Median"
   ]
  },
  {
   "cell_type": "markdown",
   "metadata": {},
   "source": [
    "The JFK airport Latitude and Longitude is 40.6441666667 and -73.7822222222. I have calculated the Havershine distance and added it as a column to the data frame. For NYC airport areas, I have picked those havershine distances which are about 300 miles. For these observations, I have provided some useful insights."
   ]
  },
  {
   "cell_type": "code",
   "execution_count": 8,
   "metadata": {
    "collapsed": true
   },
   "outputs": [],
   "source": [
    "def h_dist():\n",
    "\n",
    "    long1=-73.7822222222\n",
    "    lat1=40.6441666667\n",
    "    dist=np.zeros(1494926)\n",
    "    dist2=np.zeros(1494926)\n",
    "    i=0\n",
    "    r = 3956 # Radius of earth in miles\n",
    "    for index, row in green.iterrows():\n",
    "        dlon = row['Pickup_longitude']- long1 \n",
    "        dlat = row['Pickup_latitude'] - lat1 \n",
    "        dlon2 = row['Dropoff_longitude']- long1 \n",
    "        dlat2 = row['Dropoff_latitude'] - lat1 \n",
    "        a = sin(dlat/2)**2 + cos(lat1) * cos(row['Pickup_latitude']) * sin(dlon/2)**2\n",
    "        a2 = sin(dlat2/2)**2 + cos(lat1) * cos(row['Dropoff_latitude']) * sin(dlon2/2)**2\n",
    "        c = 2 * atan2( sqrt(a), sqrt(1-a) ) \n",
    "        c2 = 2 * atan2( sqrt(a2), sqrt(1-a2) )\n",
    "        dist[i]=c*r #Havershine distance for pick up locations\n",
    "        dist2[i]=c2*r #Havershine distance for drop locations\n",
    "        i=i+1\n",
    "    return dist,dist2"
   ]
  },
  {
   "cell_type": "code",
   "execution_count": 9,
   "metadata": {
    "collapsed": true
   },
   "outputs": [],
   "source": [
    "dist,dist2=h_dist()\n",
    "green['nearNYCAirport']=dist\n",
    "green['dropNearNYCAirport']=dist2\n"
   ]
  },
  {
   "cell_type": "code",
   "execution_count": 10,
   "metadata": {},
   "outputs": [
    {
     "name": "stdout",
     "output_type": "stream",
     "text": [
      "49203 transactions fit the criteria of being near NYC airport\n"
     ]
    }
   ],
   "source": [
    "nearNYC=green[(green['nearNYCAirport']<=300) | (green['dropNearNYCAirport']<=300)]\n",
    "print nearNYC.shape[0],\"transactions fit the criteria of being near NYC airport\"\n"
   ]
  },
  {
   "cell_type": "code",
   "execution_count": 11,
   "metadata": {},
   "outputs": [
    {
     "name": "stdout",
     "output_type": "stream",
     "text": [
      "The average fare of these transaction is 24.1676290064\n",
      "The average tip of these transaction is 2.25238217182\n",
      "The average passenger count in each of these rides is 1.0\n",
      "The most used payment type is 0    2\n",
      "dtype: int64\n"
     ]
    }
   ],
   "source": [
    "print \"The average fare of these transaction is\", nearNYC['Fare_amount'].mean()\n",
    "print \"The average tip of these transaction is\", nearNYC['Tip_amount'].mean()\n",
    "print \"The average passenger count in each of these rides is\", nearNYC['Passenger_count'].mean().round(0)\n",
    "print \"The most used payment type is\",nearNYC['Payment_type'].mode()\n"
   ]
  },
  {
   "cell_type": "markdown",
   "metadata": {},
   "source": [
    "From the data, we know that the payment type 2 is Cash."
   ]
  },
  {
   "cell_type": "markdown",
   "metadata": {
    "collapsed": true
   },
   "source": [
    "##### Question 4  \n",
    "\n",
    "    Build a derived variable for tip as a percentage of the total fare.\n",
    "\n",
    "    Build a predictive model for tip as a percentage of the total fare. Use as much of the data as you like (or all of it) "
   ]
  },
  {
   "cell_type": "code",
   "execution_count": 12,
   "metadata": {
    "collapsed": true
   },
   "outputs": [],
   "source": [
    "green['Tip_Percent']=(green['Tip_amount']*100)/green['Total_amount']"
   ]
  },
  {
   "cell_type": "markdown",
   "metadata": {},
   "source": [
    "For predictive modeling of tip as a percentage of the total fare, I have used the decision tree classification model. "
   ]
  },
  {
   "cell_type": "code",
   "execution_count": 13,
   "metadata": {},
   "outputs": [
    {
     "name": "stdout",
     "output_type": "stream",
     "text": [
      "The prediction score is:\n",
      "0.875927885415\n"
     ]
    }
   ],
   "source": [
    "green['Tip_Percent']=green['Tip_Percent'].round(2)\n",
    "X = green[['Total_amount']]\n",
    "y = pd.factorize(green['Tip_Percent'].values)[0].reshape(-1, 1)\n",
    "\n",
    "from sklearn import tree\n",
    "from sklearn.model_selection import train_test_split\n",
    "\n",
    "\n",
    "X_train, X_test, y_train, y_test = train_test_split(\n",
    "                      X, y, test_size=0.33, random_state=42)\n",
    "\n",
    "clf = tree.DecisionTreeClassifier()\n",
    "clf = clf.fit(X_train, y_train)\n",
    "print(\"The prediction score is:\")\n",
    "print(clf.score(X_test, y_test))\n"
   ]
  },
  {
   "cell_type": "code",
   "execution_count": 14,
   "metadata": {},
   "outputs": [
    {
     "name": "stdout",
     "output_type": "stream",
     "text": [
      "Actual y's are:\n",
      "[[  1]\n",
      " [  3]\n",
      " [  1]\n",
      " ..., \n",
      " [  1]\n",
      " [  1]\n",
      " [886]]\n",
      "Predicted y's are\n"
     ]
    },
    {
     "data": {
      "text/plain": [
       "array([1, 3, 1, ..., 1, 1, 1])"
      ]
     },
     "execution_count": 14,
     "metadata": {},
     "output_type": "execute_result"
    }
   ],
   "source": [
    "print(\"Actual y's are:\")\n",
    "print(y_test)\n",
    "print(\"Predicted y's are\")\n",
    "clf.predict(X_test)"
   ]
  },
  {
   "cell_type": "markdown",
   "metadata": {},
   "source": [
    "##### Question 5\n",
    "###### Option A: Distributions  \n",
    "\n",
    "    \n",
    "     Build a derived variable representing the average speed over the course of a trip.\n",
    "\n",
    "     Can you perform a test to determine if the average trip speeds are materially the same in all weeks of September? If you decide they are not the same, can you form a hypothesis regarding why they differ?\n",
    "\n",
    "     Can you build up a hypothesis of average trip speed as a function of time of day?\n",
    "\n"
   ]
  },
  {
   "cell_type": "code",
   "execution_count": 45,
   "metadata": {
    "collapsed": true,
    "scrolled": true
   },
   "outputs": [],
   "source": [
    "green['lpep_pickup_datetime'] = pd.to_datetime(green['lpep_pickup_datetime'])\n",
    "green['Lpep_dropoff_datetime']=pd.to_datetime(green['Lpep_dropoff_datetime'])\n",
    "green['seconds']=(green['Lpep_dropoff_datetime']-green['lpep_pickup_datetime']).dt.seconds\n",
    "\n",
    "green['Speed']=(green['Trip_distance']/(green['seconds'])*3600).round(2)\n",
    "green.fillna(1);\n"
   ]
  },
  {
   "cell_type": "code",
   "execution_count": 44,
   "metadata": {},
   "outputs": [
    {
     "data": {
      "text/plain": [
       "lpep_pickup_datetime\n",
       "36    12.09\n",
       "37    11.58\n",
       "38    11.61\n",
       "39    12.00\n",
       "40    11.40\n",
       "Name: Speed, dtype: float64"
      ]
     },
     "execution_count": 44,
     "metadata": {},
     "output_type": "execute_result"
    }
   ],
   "source": [
    "Average_speed=green.groupby(green['lpep_pickup_datetime'].dt.week)['Speed'].mean()\n",
    "Average_speed\n",
    "\n"
   ]
  },
  {
   "cell_type": "markdown",
   "metadata": {},
   "source": [
    "The average speed for weeks 36-40(September) are almost the same."
   ]
  },
  {
   "cell_type": "markdown",
   "metadata": {},
   "source": [
    "####  References\n",
    "1. https://pandas.pydata.org/pandas-docs/stable/generated/pandas.DataFrame.groupby.html\n",
    "2. https://andrew.hedges.name/experiments/haversine/\n",
    "3. https://en.wikipedia.org/wiki/Multivariate_adaptive_regression_splines\n",
    "4. http://contrib.scikit-learn.org/py-earth/content.html\n",
    "5. https://en.wikipedia.org/wiki/Decision_tree\n",
    "6. http://scikit-learn.org/stable/modules/tree.html\n"
   ]
  },
  {
   "cell_type": "code",
   "execution_count": null,
   "metadata": {
    "collapsed": true
   },
   "outputs": [],
   "source": []
  },
  {
   "cell_type": "code",
   "execution_count": null,
   "metadata": {
    "collapsed": true
   },
   "outputs": [],
   "source": []
  }
 ],
 "metadata": {
  "kernelspec": {
   "display_name": "Python 2",
   "language": "python",
   "name": "python2"
  },
  "language_info": {
   "codemirror_mode": {
    "name": "ipython",
    "version": 2
   },
   "file_extension": ".py",
   "mimetype": "text/x-python",
   "name": "python",
   "nbconvert_exporter": "python",
   "pygments_lexer": "ipython2",
   "version": "2.7.14"
  }
 },
 "nbformat": 4,
 "nbformat_minor": 2
}
